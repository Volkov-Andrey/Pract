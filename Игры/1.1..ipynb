{
 "cells": [
  {
   "cell_type": "code",
   "execution_count": null,
   "id": "73f0b3ca",
   "metadata": {},
   "outputs": [
    {
     "name": "stdout",
     "output_type": "stream",
     "text": [
      "Введите число:1234\n",
      "1 быков и 3 коров\n"
     ]
    }
   ],
   "source": [
    "from random import randint\n",
    "chislo = ''\n",
    "repetition = False\n",
    "for i in range(0, 4):\n",
    "    if not repetition:\n",
    "        while True:\n",
    "            e = str(randint(0,9))\n",
    "            if not e in chislo:\n",
    "                break\n",
    "    else:\n",
    "        e = str(randint(0,9))\n",
    "    chislo += e\n",
    "while True:\n",
    "    guess = input('Введите число:')\n",
    "    b = 0\n",
    "    k = 0\n",
    "    for j in range(4):\n",
    "        if chislo[j] == guess[j]:\n",
    "            b += 1\n",
    "        elif guess[j] in chislo:\n",
    "            k += 1\n",
    "    print(b, 'быков', 'и', k, 'коров')\n",
    "    if b == 4:\n",
    "        print('Число угадано!')"
   ]
  },
  {
   "cell_type": "code",
   "execution_count": null,
   "id": "898ac913",
   "metadata": {},
   "outputs": [],
   "source": []
  }
 ],
 "metadata": {
  "kernelspec": {
   "display_name": "Python 3 (ipykernel)",
   "language": "python",
   "name": "python3"
  },
  "language_info": {
   "codemirror_mode": {
    "name": "ipython",
    "version": 3
   },
   "file_extension": ".py",
   "mimetype": "text/x-python",
   "name": "python",
   "nbconvert_exporter": "python",
   "pygments_lexer": "ipython3",
   "version": "3.10.9"
  }
 },
 "nbformat": 4,
 "nbformat_minor": 5
}
